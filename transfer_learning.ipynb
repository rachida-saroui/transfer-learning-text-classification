{
  "cells": [
    {
      "cell_type": "markdown",
      "metadata": {
        "id": "DlAfI8mCWAf3"
      },
      "source": [
        "<center>\n",
        "<h2> </h2>\n",
        "<h2>ALTeGraD 2024<br>Lab Session 2: Transfer learning for NLP</h2> 15 / 10 / 2024<br> Dr. G. Shang, Y.Zhang<br><br>\n",
        "\n",
        "\n",
        "<b>Student name:</b> Rachida Saroui\n",
        "\n",
        "</center>\n",
        "\n",
        "<br><br>\n",
        "In this lab we will:\n",
        "* Implement and pretrain a language model with transformer architecture.\n",
        "* Use the pretrained model (transfer learning) to perform a sentiment analysis task which consists of classifying some books reviews into positive and negative ones.\n",
        "* Compare the performance of the pretrained model to a model trained from scratch.\n",
        " <br>\n",
        "\n",
        "<b>The deadline for this lab is October 22, 2024 11:59 PM.</b> More details about the submission and the architecture for this lab can be found in the handout PDF."
      ]
    },
    {
      "cell_type": "code",
      "execution_count": 2,
      "metadata": {
        "id": "IqukuIe0Rb_c"
      },
      "outputs": [],
      "source": [
        "import math\n",
        "\n",
        "import torch\n",
        "import torch.nn as nn\n",
        "from torch.nn.utils.rnn import pad_sequence\n",
        "\n",
        "device = torch.device(\"cuda\" if torch.cuda.is_available() else \"cpu\")"
      ]
    },
    {
      "cell_type": "markdown",
      "metadata": {
        "id": "5FF6fjkqgN39"
      },
      "source": [
        "### The Model"
      ]
    },
    {
      "cell_type": "code",
      "source": [
        "class TransformerModel(nn.Module):\n",
        "    def __init__(self, ntoken, nhead, nhid, nlayers, dropout=0.5):\n",
        "        super(TransformerModel, self).__init__()\n",
        "        \"\"\"\n",
        "        ntokens: the size of vocabulary\n",
        "        nhid: the hidden dimension of the model.\n",
        "        We assume that embedding_dim = nhid\n",
        "        nlayers: the number of nn.TransformerEncoderLayer in nn.TransformerEncoder\n",
        "        nhead: the number of heads in the multiheadattention models\n",
        "        dropout: the dropout value\n",
        "         \"\"\"\n",
        "        self.model_type = \"Transformer\"\n",
        "        self.encoder = nn.Embedding(\n",
        "            num_embeddings=ntoken, embedding_dim=nhid\n",
        "        )  # fill me, nhid = the dim_embed\n",
        "        self.pos_encoder = PositionalEncoding(\n",
        "            nhid\n",
        "        )  # fill me, the PositionalEncoding class is implemented in the next cell\n",
        "        encoder_layers = nn.TransformerEncoderLayer(\n",
        "            d_model=nhid, nhead=nhead, dim_feedforward=nhid\n",
        "        )  # fill me we assume nhid = d_model = dim_feedforward\n",
        "        self.transformer_encoder = nn.TransformerEncoder(\n",
        "            encoder_layers, num_layers=nlayers\n",
        "        )  # fill me\n",
        "        self.nhid = nhid\n",
        "        self.init_weights()\n",
        "\n",
        "    def generate_square_subsequent_mask(self, sz):\n",
        "        mask = (torch.triu(torch.ones(sz, sz)) == 1).transpose(0, 1)\n",
        "        mask = (\n",
        "            mask.float()\n",
        "            .masked_fill(mask == 0, float(\"-inf\"))\n",
        "            .masked_fill(mask == 1, float(0.0))\n",
        "        )\n",
        "        return mask\n",
        "\n",
        "    def init_weights(self):\n",
        "        initrange = 0.1\n",
        "        self.encoder.weight.data.uniform_(-initrange, initrange)\n",
        "\n",
        "    def forward(self, src, src_mask):\n",
        "        src = self.encoder(src) * math.sqrt(self.nhid)\n",
        "        src = self.pos_encoder(src)  # fill me\n",
        "        output = self.transformer_encoder(src, src_mask)  # fill me\n",
        "        return output\n",
        "\n",
        "\n",
        "class ClassificationHead(nn.Module):\n",
        "    def __init__(self, nhid, nclasses):\n",
        "        super(ClassificationHead, self).__init__()\n",
        "        self.decoder = nn.Linear(nhid, nclasses)  # fill me\n",
        "        self.init_weights()\n",
        "\n",
        "    def init_weights(self):\n",
        "        initrange = 0.1\n",
        "        self.decoder.bias.data.zero_()\n",
        "        self.decoder.weight.data.uniform_(-initrange, initrange)\n",
        "\n",
        "    def forward(self, src):\n",
        "        output = self.decoder(src)\n",
        "        return output\n",
        "\n",
        "\n",
        "class Model(nn.Module):\n",
        "    def __init__(self, ntoken, nhead, nhid, nlayers, nclasses, dropout=0.5):\n",
        "        super(Model, self).__init__()\n",
        "        self.base = TransformerModel(ntoken, nhead, nhid, nlayers, dropout)\n",
        "        self.classifier = ClassificationHead(nhid, nclasses)\n",
        "\n",
        "    def forward(self, src, src_mask):\n",
        "        # base model\n",
        "        x = self.base(src, src_mask)\n",
        "        # classifier model\n",
        "        output = self.classifier(x)\n",
        "        return output"
      ],
      "metadata": {
        "id": "8YUQ4P0FgYWl"
      },
      "execution_count": 3,
      "outputs": []
    },
    {
      "cell_type": "code",
      "execution_count": 4,
      "metadata": {
        "id": "kt2QQohaFZry"
      },
      "outputs": [],
      "source": [
        "class PositionalEncoding(nn.Module):\n",
        "    def __init__(self, nhid, dropout=0.1, max_len=5000):\n",
        "        super(PositionalEncoding, self).__init__()\n",
        "        self.dropout = nn.Dropout(p=dropout)\n",
        "\n",
        "        pe = torch.zeros(max_len, nhid)\n",
        "        position = torch.arange(0, max_len, dtype=torch.float).unsqueeze(1)\n",
        "        div_term = torch.exp(\n",
        "            torch.arange(0, nhid, 2).float() * (-math.log(10000.0) / nhid)\n",
        "        )\n",
        "        pe[:, 0::2] = torch.sin(position * div_term)\n",
        "        pe[:, 1::2] = torch.cos(position * div_term)\n",
        "        pe = pe.unsqueeze(0).transpose(0, 1)\n",
        "        self.register_buffer(\"pe\", pe)\n",
        "\n",
        "    def forward(self, x):\n",
        "        x = x + self.pe[: x.size(0), :]\n",
        "        return self.dropout(x)"
      ]
    },
    {
      "cell_type": "markdown",
      "metadata": {
        "id": "SfEYHJx2JW6l"
      },
      "source": [
        "Let's verify if our model works, by applying one inference step"
      ]
    },
    {
      "cell_type": "code",
      "execution_count": 5,
      "metadata": {
        "id": "rhb2gkUhJMR0",
        "colab": {
          "base_uri": "https://localhost:8080/"
        },
        "outputId": "4cea3054-97ba-442c-87a9-56320f2711fd"
      },
      "outputs": [
        {
          "output_type": "stream",
          "name": "stderr",
          "text": [
            "/usr/local/lib/python3.10/dist-packages/torch/nn/modules/transformer.py:307: UserWarning: enable_nested_tensor is True, but self.use_nested_tensor is False because encoder_layer.self_attn.batch_first was not True(use batch_first for better inference performance)\n",
            "  warnings.warn(f\"enable_nested_tensor is True, but self.use_nested_tensor is False because {why_not_sparsity_fast_path}\")\n"
          ]
        },
        {
          "output_type": "stream",
          "name": "stdout",
          "text": [
            "torch.Size([1, 6, 100])\n"
          ]
        }
      ],
      "source": [
        "ntokens = 100 # the size of vocabulary\n",
        "nhid = 200  # hidden dimension\n",
        "nlayers = 4  # the number of nn.TransformerEncoderLayer in nn.TransformerEncoder\n",
        "nhead = 2  # the number of heads in the multiheadattention models\n",
        "dropout = 0  # the dropout value\n",
        "\n",
        "model = Model(ntokens, nhead, nhid, nlayers, ntokens, dropout).to(device)\n",
        "dummy_input = torch.tensor([[2, 6, 2, 5, 43, 21]]).to(device)\n",
        "src_mask = model.base.generate_square_subsequent_mask(1).to(device)\n",
        "out = model.forward(dummy_input, src_mask)\n",
        "\n",
        "print(out.shape) # is it the right shape?"
      ]
    },
    {
      "cell_type": "markdown",
      "metadata": {
        "id": "i74NN897Fcit"
      },
      "source": [
        "## Vocabulary and Tokenization"
      ]
    },
    {
      "cell_type": "code",
      "execution_count": 6,
      "metadata": {
        "id": "5qjd26ghWuff",
        "colab": {
          "base_uri": "https://localhost:8080/"
        },
        "outputId": "f426890f-442c-4eef-8544-e68a17aba8f4"
      },
      "outputs": [
        {
          "output_type": "stream",
          "name": "stdout",
          "text": [
            "--2024-10-22 19:27:52--  https://raw.githubusercontent.com/moussaKam/transfer_learning_transformers/main/dict.txt\n",
            "Resolving raw.githubusercontent.com (raw.githubusercontent.com)... 185.199.111.133, 185.199.109.133, 185.199.110.133, ...\n",
            "Connecting to raw.githubusercontent.com (raw.githubusercontent.com)|185.199.111.133|:443... connected.\n",
            "HTTP request sent, awaiting response... 200 OK\n",
            "Length: 577587 (564K) [text/plain]\n",
            "Saving to: ‘dict.txt’\n",
            "\n",
            "dict.txt            100%[===================>] 564.05K  --.-KB/s    in 0.04s   \n",
            "\n",
            "2024-10-22 19:27:53 (15.1 MB/s) - ‘dict.txt’ saved [577587/577587]\n",
            "\n",
            "▁d 1\n",
            "es 1\n",
            "▁l 1\n",
            "en 1\n",
            "on 1\n"
          ]
        }
      ],
      "source": [
        "!wget https://raw.githubusercontent.com/moussaKam/transfer_learning_transformers/main/dict.txt\n",
        "!head -5 dict.txt"
      ]
    },
    {
      "cell_type": "code",
      "execution_count": 7,
      "metadata": {
        "id": "vFdH_-JeFbGA",
        "colab": {
          "base_uri": "https://localhost:8080/"
        },
        "outputId": "374afbf4-d4f3-4809-b225-41e361e5e7c4"
      },
      "outputs": [
        {
          "output_type": "stream",
          "name": "stdout",
          "text": [
            "▁trop\n"
          ]
        }
      ],
      "source": [
        "path_vocab = \"dict.txt\"\n",
        "token2ind = {\"<sos>\": 0, \"<pad>\": 1, \"<eos>\": 2, \"<oov>\": 3} # the 4 first indices are reserved to special tokens\n",
        "with open(path_vocab, \"r\") as f:\n",
        "    for idx, line in enumerate(f):\n",
        "        word = line.split()[0].strip()\n",
        "        token2ind[word] = idx + 4 #fill me\n",
        "\n",
        "ind2token = {idx: token for token, idx in token2ind.items()} #fill me\n",
        "\n",
        "print(ind2token[1111])"
      ]
    },
    {
      "cell_type": "markdown",
      "metadata": {
        "id": "XOExGODajN8p"
      },
      "source": [
        "### Data Loader\n"
      ]
    },
    {
      "cell_type": "code",
      "source": [
        "import numpy\n",
        "import torch\n",
        "from torch.nn.utils.rnn import pad_sequence\n",
        "from torch.utils.data import DataLoader, Dataset\n",
        "\n",
        "\n",
        "class Dataset(Dataset):\n",
        "    def __init__(\n",
        "        self,\n",
        "        path_documents,\n",
        "        path_labels=None,\n",
        "        token2ind={},\n",
        "        max_len=512,\n",
        "        task=\"language_modeling\",\n",
        "    ):\n",
        "        self.task = task\n",
        "        self.max_len = max_len\n",
        "        self.token2ind = token2ind\n",
        "        self.documents = []\n",
        "        self.labels = []\n",
        "        with open(path_documents, \"r\") as f1:\n",
        "            for line in f1:\n",
        "                self.documents.append(line.strip())\n",
        "        if task == \"classification\":\n",
        "            with open(path_labels, \"r\") as f1:\n",
        "                for line in f1:\n",
        "                    self.labels.append(int(line.strip()))\n",
        "            assert len(self.labels) == len(self.documents)\n",
        "\n",
        "    def __len__(self):\n",
        "        return len(self.documents)\n",
        "\n",
        "    def __getitem__(self, index):\n",
        "        sequence = self.documents[index].split()\n",
        "        if len(sequence) > self.max_len - 1:\n",
        "            sequence = sequence[: self.max_len - 1]\n",
        "        source_sequence = [self.token2ind[\"<sos>\"]] + [\n",
        "            self.token2ind.get(word, self.token2ind[\"<oov>\"]) for word in sequence\n",
        "        ]  # fill me (constract the input sequence using token2ind, sequence and special tokens)\n",
        "        if self.task == \"language_modeling\":\n",
        "            target = source_sequence[1:]\n",
        "            target.append(self.token2ind[\"<eos>\"])\n",
        "        elif self.task == \"classification\":\n",
        "            target = [self.labels[index]]\n",
        "        sample = {\n",
        "            \"source_sequence\": torch.tensor(source_sequence),\n",
        "            \"target\": torch.tensor(target),\n",
        "        }\n",
        "        return sample\n",
        "\n",
        "\n",
        "def MyCollator(batch):\n",
        "    source_sequences = pad_sequence(\n",
        "        # we use padding to match the length of the sequences in the same batch\n",
        "        [sample[\"source_sequence\"] for sample in batch],\n",
        "        padding_value=token2ind[\"<pad>\"],\n",
        "    )\n",
        "    target = pad_sequence(\n",
        "        [sample[\"target\"] for sample in batch], padding_value=token2ind[\"<pad>\"]\n",
        "    )\n",
        "    return source_sequences, target.reshape(-1)\n",
        "\n",
        "\n",
        "def get_loader(\n",
        "    path_documents,\n",
        "    path_labels=None,\n",
        "    token2ind={},\n",
        "    max_len=512,\n",
        "    batch_size=32,\n",
        "    task=\"language_modeling\",\n",
        "):\n",
        "    dataset = Dataset(\n",
        "        path_documents,\n",
        "        path_labels=path_labels,\n",
        "        token2ind=token2ind,\n",
        "        max_len=512,\n",
        "        task=task,\n",
        "    )\n",
        "    data_loader = DataLoader(\n",
        "        dataset=dataset,\n",
        "        batch_size=batch_size,\n",
        "        shuffle=True,\n",
        "        collate_fn=MyCollator,\n",
        "        pin_memory=True,\n",
        "        drop_last=True,\n",
        "    )\n",
        "    return data_loader\n"
      ],
      "metadata": {
        "id": "gNr-p1cugBAu"
      },
      "execution_count": 8,
      "outputs": []
    },
    {
      "cell_type": "markdown",
      "metadata": {
        "id": "uTns4lHrjUTa"
      },
      "source": [
        "## The Training"
      ]
    },
    {
      "cell_type": "code",
      "source": [
        "def train(\n",
        "    path_data_train,\n",
        "    path_labels_train=None,\n",
        "    path_data_valid=None,\n",
        "    save_interval=-1,\n",
        "    log_interval=5,\n",
        "    task=\"language_modeling\",\n",
        "    batch_size=32,\n",
        "):\n",
        "    model.train()\n",
        "    total_loss = 0.0\n",
        "    ntokens = len(token2ind)\n",
        "    data_loader = get_loader(\n",
        "        path_data_train,\n",
        "        path_labels_train,\n",
        "        token2ind,\n",
        "        task=task,\n",
        "        batch_size=batch_size,\n",
        "    )\n",
        "\n",
        "    losses = []\n",
        "    for idx, data in enumerate(data_loader):  # step 1\n",
        "        optimizer.zero_grad()\n",
        "        src_mask = model.base.generate_square_subsequent_mask(data[0].size(0)).to(\n",
        "            device\n",
        "        )\n",
        "        input = data[0].to(device)\n",
        "        output = model(input, src_mask)  # step 2\n",
        "        if task == \"classification\":\n",
        "            # last vector only\n",
        "            output = output[-1, :]  # fill me\n",
        "        output = output.view(-1, output.shape[-1])\n",
        "        target = data[1]  # fill me\n",
        "        target = target.to(device)\n",
        "        loss = criterion(output, target)  # fill me, Cross entropy check next cells\n",
        "        # fill me step 3\n",
        "        loss.backward()\n",
        "\n",
        "        torch.nn.utils.clip_grad_norm_(\n",
        "            model.parameters(), 0.5\n",
        "        )  # prevent exploding gradient\n",
        "        # fill me step 4\n",
        "        optimizer.step()\n",
        "\n",
        "        total_loss += loss.item()\n",
        "        if idx % log_interval == 0 and idx > 0:\n",
        "            cur_loss = total_loss / log_interval\n",
        "            print(\n",
        "                \"| epoch {:3d} | {:5d}/{:5d} steps | \"\n",
        "                \"loss {:5.5f} | ppl {:8.3f}\".format(\n",
        "                    epoch,\n",
        "                    idx,\n",
        "                    len(data_loader),\n",
        "                    cur_loss,\n",
        "                    math.exp(cur_loss),\n",
        "                )\n",
        "            )\n",
        "            losses.append(cur_loss)\n",
        "            total_loss = 0\n",
        "    return losses"
      ],
      "metadata": {
        "id": "HvKFzQ8FfY0W"
      },
      "execution_count": 9,
      "outputs": []
    },
    {
      "cell_type": "code",
      "execution_count": 10,
      "metadata": {
        "id": "pgf6BDB9jUr6"
      },
      "outputs": [],
      "source": [
        "ntokens =len(token2ind) #fill me # the size of vocabulary\n",
        "nhid = 200  # the dimension of the feedforward network model in nn.TransformerEncoder\n",
        "nlayers = 4  # the number of nn.TransformerEncoderLayer in nn.TransformerEncoder\n",
        "nhead = 2  # the number of heads in the multiheadattention models\n",
        "dropout = 0  # the dropout value\n",
        "\n",
        "nclasses = 2 # for classification task only\n",
        "\n",
        "model = Model(ntokens, nhead, nhid, nlayers, ntokens, dropout).to(device)"
      ]
    },
    {
      "cell_type": "code",
      "execution_count": 11,
      "metadata": {
        "id": "u-OLy4KIkDwf"
      },
      "outputs": [],
      "source": [
        "# optimization paramerters\n",
        "\n",
        "criterion = nn.CrossEntropyLoss(ignore_index=token2ind['<pad>'])\n",
        "lr = 0.0003  # learning rate\n",
        "optimizer = torch.optim.Adam(model.parameters(), lr=lr)"
      ]
    },
    {
      "cell_type": "code",
      "execution_count": 12,
      "metadata": {
        "id": "Bwh3n9xZQy4e",
        "colab": {
          "base_uri": "https://localhost:8080/"
        },
        "outputId": "94953a00-c4c1-4241-d40f-142a4894b43e"
      },
      "outputs": [
        {
          "output_type": "stream",
          "name": "stdout",
          "text": [
            "--2024-10-22 19:28:16--  https://raw.githubusercontent.com/moussaKam/transfer_learning_transformers/main/pretraining_subset.txt\n",
            "Resolving raw.githubusercontent.com (raw.githubusercontent.com)... 185.199.108.133, 185.199.109.133, 185.199.110.133, ...\n",
            "Connecting to raw.githubusercontent.com (raw.githubusercontent.com)|185.199.108.133|:443... connected.\n",
            "HTTP request sent, awaiting response... 200 OK\n",
            "Length: 10146460 (9.7M) [text/plain]\n",
            "Saving to: ‘pretraining_subset.txt’\n",
            "\n",
            "pretraining_subset. 100%[===================>]   9.68M  --.-KB/s    in 0.08s   \n",
            "\n",
            "2024-10-22 19:28:17 (126 MB/s) - ‘pretraining_subset.txt’ saved [10146460/10146460]\n",
            "\n"
          ]
        }
      ],
      "source": [
        "!wget https://raw.githubusercontent.com/moussaKam/transfer_learning_transformers/main/pretraining_subset.txt\n",
        "path_data_train = \"pretraining_subset.txt\""
      ]
    },
    {
      "cell_type": "code",
      "execution_count": 14,
      "metadata": {
        "id": "0m11g4ScjZaR",
        "colab": {
          "base_uri": "https://localhost:8080/"
        },
        "outputId": "f7e56beb-b10a-459a-82a2-c7431e808021"
      },
      "outputs": [
        {
          "output_type": "stream",
          "name": "stdout",
          "text": [
            "| epoch   1 |   500/ 3125 steps | loss 7.22934 | ppl 1379.318\n",
            "| epoch   1 |  1000/ 3125 steps | loss 6.56601 | ppl  710.532\n",
            "| epoch   1 |  1500/ 3125 steps | loss 6.29263 | ppl  540.572\n",
            "| epoch   1 |  2000/ 3125 steps | loss 6.11371 | ppl  452.011\n",
            "| epoch   1 |  2500/ 3125 steps | loss 6.04023 | ppl  419.990\n",
            "| epoch   1 |  3000/ 3125 steps | loss 5.92588 | ppl  374.610\n",
            "| epoch   2 |   500/ 3125 steps | loss 5.64558 | ppl  283.037\n",
            "| epoch   2 |  1000/ 3125 steps | loss 5.62259 | ppl  276.604\n",
            "| epoch   2 |  1500/ 3125 steps | loss 5.59374 | ppl  268.740\n",
            "| epoch   2 |  2000/ 3125 steps | loss 5.53924 | ppl  254.486\n",
            "| epoch   2 |  2500/ 3125 steps | loss 5.52228 | ppl  250.205\n",
            "| epoch   2 |  3000/ 3125 steps | loss 5.47615 | ppl  238.925\n"
          ]
        }
      ],
      "source": [
        "#pretraining on a tiny subset\n",
        "log_interval = 500\n",
        "epochs = 2\n",
        "for epoch in range(1, epochs + 1): #5\n",
        "    train(\n",
        "        path_data_train,\n",
        "        save_interval=-1,\n",
        "        task=\"language_modeling\", # fill me\n",
        "        #task=\"classification\",\n",
        "        batch_size=16,\n",
        "        log_interval=log_interval,\n",
        "    )"
      ]
    },
    {
      "cell_type": "markdown",
      "metadata": {
        "id": "MeOM1dOvkO4e"
      },
      "source": [
        "## Text Generation\n"
      ]
    },
    {
      "cell_type": "code",
      "execution_count": 15,
      "metadata": {
        "id": "-BcBC6FSkMH3",
        "colab": {
          "base_uri": "https://localhost:8080/"
        },
        "outputId": "54d8af92-be40-4b31-884f-eb56c809c9a3"
      },
      "outputs": [
        {
          "output_type": "stream",
          "name": "stdout",
          "text": [
            "--2024-10-22 19:35:44--  https://raw.githubusercontent.com/moussaKam/transfer_learning_transformers/main/pretrained_model_4layers.pt\n",
            "Resolving raw.githubusercontent.com (raw.githubusercontent.com)... 185.199.111.133, 185.199.109.133, 185.199.110.133, ...\n",
            "Connecting to raw.githubusercontent.com (raw.githubusercontent.com)|185.199.111.133|:443... connected.\n",
            "HTTP request sent, awaiting response... 200 OK\n",
            "Length: 88093955 (84M) [application/octet-stream]\n",
            "Saving to: ‘pretrained_model_4layers.pt’\n",
            "\n",
            "pretrained_model_4l 100%[===================>]  84.01M   264MB/s    in 0.3s    \n",
            "\n",
            "2024-10-22 19:35:44 (264 MB/s) - ‘pretrained_model_4layers.pt’ saved [88093955/88093955]\n",
            "\n"
          ]
        },
        {
          "output_type": "stream",
          "name": "stderr",
          "text": [
            "/usr/local/lib/python3.10/dist-packages/torch/nn/modules/transformer.py:307: UserWarning: enable_nested_tensor is True, but self.use_nested_tensor is False because encoder_layer.self_attn.batch_first was not True(use batch_first for better inference performance)\n",
            "  warnings.warn(f\"enable_nested_tensor is True, but self.use_nested_tensor is False because {why_not_sparsity_fast_path}\")\n",
            "<ipython-input-15-76a40ce8b80e>:6: FutureWarning: You are using `torch.load` with `weights_only=False` (the current default value), which uses the default pickle module implicitly. It is possible to construct malicious pickle data which will execute arbitrary code during unpickling (See https://github.com/pytorch/pytorch/blob/main/SECURITY.md#untrusted-models for more details). In a future release, the default value for `weights_only` will be flipped to `True`. This limits the functions that could be executed during unpickling. Arbitrary objects will no longer be allowed to be loaded via this mode unless they are explicitly allowlisted by the user via `torch.serialization.add_safe_globals`. We recommend you start setting `weights_only=True` for any use case where you don't have full control of the loaded file. Please open an issue on GitHub for any issues related to this experimental feature.\n",
            "  checkpoint = torch.load('pretrained_model_4layers.pt')\n"
          ]
        },
        {
          "output_type": "execute_result",
          "data": {
            "text/plain": [
              "<All keys matched successfully>"
            ]
          },
          "metadata": {},
          "execution_count": 15
        }
      ],
      "source": [
        "!wget https://raw.githubusercontent.com/moussaKam/transfer_learning_transformers/main/pretrained_model_4layers.pt\n",
        "\n",
        "model = Model(ntokens, nhead, nhid, nlayers, ntokens).to(device)\n",
        "\n",
        "#load the checkpoint\n",
        "checkpoint = torch.load('pretrained_model_4layers.pt')\n",
        "#load state dict\n",
        "model.load_state_dict(checkpoint['model_state_dict'])"
      ]
    },
    {
      "cell_type": "code",
      "execution_count": 16,
      "metadata": {
        "id": "tBRRVsWqlIoQ",
        "colab": {
          "base_uri": "https://localhost:8080/"
        },
        "outputId": "926f34ce-7dee-4da9-ee64-7bbe16803b8b"
      },
      "outputs": [
        {
          "output_type": "stream",
          "name": "stdout",
          "text": [
            "--2024-10-22 19:35:49--  https://raw.githubusercontent.com/moussaKam/transfer_learning_transformers/main/sentencepiece.french.model\n",
            "Resolving raw.githubusercontent.com (raw.githubusercontent.com)... 185.199.108.133, 185.199.109.133, 185.199.110.133, ...\n",
            "Connecting to raw.githubusercontent.com (raw.githubusercontent.com)|185.199.108.133|:443... connected.\n",
            "HTTP request sent, awaiting response... 200 OK\n",
            "Length: 1115362 (1.1M) [application/octet-stream]\n",
            "Saving to: ‘sentencepiece.french.model’\n",
            "\n",
            "\r          sentencep   0%[                    ]       0  --.-KB/s               \rsentencepiece.frenc 100%[===================>]   1.06M  --.-KB/s    in 0.04s   \n",
            "\n",
            "2024-10-22 19:35:50 (25.6 MB/s) - ‘sentencepiece.french.model’ saved [1115362/1115362]\n",
            "\n",
            "['▁Bonjour', '▁les', '▁amis', '!']\n",
            "Bonjour les amis!\n"
          ]
        }
      ],
      "source": [
        "# !pip install sentencepiece   # uncomment this if you are using google colab\n",
        "!wget https://raw.githubusercontent.com/moussaKam/transfer_learning_transformers/main/sentencepiece.french.model\n",
        "\n",
        "import sentencepiece as spm\n",
        "\n",
        "s = spm.SentencePieceProcessor(model_file='sentencepiece.french.model') #load sentencepiece model\n",
        "\n",
        "#examples\n",
        "encoded = s.encode_as_pieces(\"Bonjour les amis!\")\n",
        "decoded = s.decode_pieces(encoded)\n",
        "print(encoded)\n",
        "print(decoded)"
      ]
    },
    {
      "cell_type": "code",
      "execution_count": 17,
      "metadata": {
        "id": "TtLlV05pkQI3"
      },
      "outputs": [],
      "source": [
        "def infer_next_token(sent):\n",
        "    model.eval()\n",
        "    sent_pieces = s.encode_as_pieces(sent)\n",
        "    source = [token2ind['<sos>']] + [token2ind[el] for el in sent_pieces] # list of tokens\n",
        "    source = torch.tensor(source).to(device)\n",
        "    source = source.reshape(-1, 1)\n",
        "    src_mask = model.base.generate_square_subsequent_mask(source.size(0)).to(device)\n",
        "    out = model(source, src_mask)\n",
        "    next_token_ind =torch.argmax(out, axis=-1)[-1, 0]  #fill me\n",
        "    return next_token_ind, out\n",
        "\n",
        "def infer_next_tokens(sent, max_len=50):\n",
        "    s = spm.SentencePieceProcessor(model_file=\"sentencepiece.french.model\")\n",
        "    sent_pieces = s.encode_as_pieces(sent)\n",
        "    while len(sent_pieces) < max_len:\n",
        "        new_token = infer_next_token(s.decode_pieces(sent_pieces))[0].item()\n",
        "        if new_token == token2ind[\"<eos>\"]:\n",
        "            break\n",
        "        sent_pieces += ind2token[new_token]\n",
        "    return s.decode_pieces(sent_pieces)"
      ]
    },
    {
      "cell_type": "code",
      "execution_count": 18,
      "metadata": {
        "id": "f83Nn5nSly4v",
        "colab": {
          "base_uri": "https://localhost:8080/",
          "height": 36
        },
        "outputId": "cb7d9c35-4abf-4347-d844-84081712c679"
      },
      "outputs": [
        {
          "output_type": "execute_result",
          "data": {
            "text/plain": [
              "'Bonjour les gens qui ont été très accueillants et sympathiques'"
            ],
            "application/vnd.google.colaboratory.intrinsic+json": {
              "type": "string"
            }
          },
          "metadata": {},
          "execution_count": 18
        }
      ],
      "source": [
        "sent = \"Bonjour les\"\n",
        "infer_next_tokens(sent)"
      ]
    },
    {
      "cell_type": "markdown",
      "metadata": {
        "id": "Lp7mjVzomoZ3"
      },
      "source": [
        "### Supervised task"
      ]
    },
    {
      "cell_type": "code",
      "execution_count": 19,
      "metadata": {
        "id": "0K1BZsblmEmx",
        "colab": {
          "base_uri": "https://localhost:8080/"
        },
        "outputId": "f4669c5a-937e-45f8-817e-f7f3f4eaba25"
      },
      "outputs": [
        {
          "output_type": "stream",
          "name": "stdout",
          "text": [
            "--2024-10-22 19:36:00--  https://raw.githubusercontent.com/moussaKam/transfer_learning_transformers/main/cls-books/train.review.spm\n",
            "Resolving raw.githubusercontent.com (raw.githubusercontent.com)... 185.199.111.133, 185.199.108.133, 185.199.110.133, ...\n",
            "Connecting to raw.githubusercontent.com (raw.githubusercontent.com)|185.199.111.133|:443... connected.\n",
            "HTTP request sent, awaiting response... 200 OK\n",
            "Length: 1495960 (1.4M) [text/plain]\n",
            "Saving to: ‘train.review.spm’\n",
            "\n",
            "train.review.spm    100%[===================>]   1.43M  --.-KB/s    in 0.04s   \n",
            "\n",
            "2024-10-22 19:36:00 (35.0 MB/s) - ‘train.review.spm’ saved [1495960/1495960]\n",
            "\n",
            "--2024-10-22 19:36:00--  https://raw.githubusercontent.com/moussaKam/transfer_learning_transformers/main/cls-books/train.label\n",
            "Resolving raw.githubusercontent.com (raw.githubusercontent.com)... 185.199.111.133, 185.199.108.133, 185.199.110.133, ...\n",
            "Connecting to raw.githubusercontent.com (raw.githubusercontent.com)|185.199.111.133|:443... connected.\n",
            "HTTP request sent, awaiting response... 200 OK\n",
            "Length: 3200 (3.1K) [text/plain]\n",
            "Saving to: ‘train.label’\n",
            "\n",
            "train.label         100%[===================>]   3.12K  --.-KB/s    in 0s      \n",
            "\n",
            "2024-10-22 19:36:00 (50.5 MB/s) - ‘train.label’ saved [3200/3200]\n",
            "\n",
            "--2024-10-22 19:36:00--  https://raw.githubusercontent.com/moussaKam/transfer_learning_transformers/main/cls-books/test.review.spm\n",
            "Resolving raw.githubusercontent.com (raw.githubusercontent.com)... 185.199.111.133, 185.199.108.133, 185.199.110.133, ...\n",
            "Connecting to raw.githubusercontent.com (raw.githubusercontent.com)|185.199.111.133|:443... connected.\n",
            "HTTP request sent, awaiting response... 200 OK\n",
            "Length: 1864544 (1.8M) [text/plain]\n",
            "Saving to: ‘test.review.spm’\n",
            "\n",
            "test.review.spm     100%[===================>]   1.78M  --.-KB/s    in 0.05s   \n",
            "\n",
            "2024-10-22 19:36:01 (33.1 MB/s) - ‘test.review.spm’ saved [1864544/1864544]\n",
            "\n",
            "--2024-10-22 19:36:01--  https://raw.githubusercontent.com/moussaKam/transfer_learning_transformers/main/cls-books/test.label\n",
            "Resolving raw.githubusercontent.com (raw.githubusercontent.com)... 185.199.108.133, 185.199.109.133, 185.199.110.133, ...\n",
            "Connecting to raw.githubusercontent.com (raw.githubusercontent.com)|185.199.108.133|:443... connected.\n",
            "HTTP request sent, awaiting response... 200 OK\n",
            "Length: 4000 (3.9K) [text/plain]\n",
            "Saving to: ‘test.label’\n",
            "\n",
            "test.label          100%[===================>]   3.91K  --.-KB/s    in 0s      \n",
            "\n",
            "2024-10-22 19:36:01 (58.8 MB/s) - ‘test.label’ saved [4000/4000]\n",
            "\n"
          ]
        }
      ],
      "source": [
        "!wget https://raw.githubusercontent.com/moussaKam/transfer_learning_transformers/main/cls-books/train.review.spm\n",
        "!wget https://raw.githubusercontent.com/moussaKam/transfer_learning_transformers/main/cls-books/train.label\n",
        "!wget https://raw.githubusercontent.com/moussaKam/transfer_learning_transformers/main/cls-books/test.review.spm\n",
        "!wget https://raw.githubusercontent.com/moussaKam/transfer_learning_transformers/main/cls-books/test.label\n",
        "\n",
        "path_data_train = \"train.review.spm\"\n",
        "path_labels_train = \"train.label\"\n",
        "\n",
        "path_data_valid = \"test.review.spm\"\n",
        "path_labels_valid = \"test.label\""
      ]
    },
    {
      "cell_type": "code",
      "execution_count": 20,
      "metadata": {
        "id": "_MLfvjiom2SL"
      },
      "outputs": [],
      "source": [
        "# a function to evaluate the validation accuracy of the model.\n",
        "def evaluate_accuracy(data_loader):\n",
        "    correct_samples = 0\n",
        "    total_samples = 0\n",
        "    model.eval()\n",
        "    with torch.no_grad():\n",
        "        for idx, data in enumerate(data_loader):  # step 1\n",
        "            src_mask = model.base.generate_square_subsequent_mask(data[0].size(0)).to(\n",
        "                device\n",
        "            )\n",
        "            input = data[0].to(device)\n",
        "            outputs = model(input, src_mask)  # step 2\n",
        "            predictions = torch.argmax(outputs[-1, :], axis=-1)\n",
        "            targets = data[1].to(device)\n",
        "            total_samples += targets.shape[0]\n",
        "            correct_samples += torch.sum(targets == predictions)\n",
        "    accuracy = correct_samples / total_samples\n",
        "    print(f\"Accuracy = {accuracy}\")\n",
        "    return accuracy"
      ]
    },
    {
      "cell_type": "code",
      "execution_count": 21,
      "metadata": {
        "id": "qzmx7T7xoa6v"
      },
      "outputs": [],
      "source": [
        "#save the base model to be loaded later in the fine-tuning phase\n",
        "torch.save({\"model_state_dict\": model.base.state_dict(),}, \"pretrained_model_4layers_no_class_head.pt\")"
      ]
    },
    {
      "cell_type": "code",
      "execution_count": 22,
      "metadata": {
        "id": "i-xclMCpnVpw",
        "colab": {
          "base_uri": "https://localhost:8080/"
        },
        "outputId": "b7ebadca-bf9a-40f5-fef1-02c98f9df3ca"
      },
      "outputs": [
        {
          "output_type": "stream",
          "name": "stdout",
          "text": [
            "=====Trainig FROM SCRATCH======\n",
            "| epoch   1 |    50/  200 steps | loss 0.79098 | ppl    2.206\n",
            "| epoch   1 |   100/  200 steps | loss 0.72358 | ppl    2.062\n",
            "| epoch   1 |   150/  200 steps | loss 0.69674 | ppl    2.007\n",
            "Accuracy = 0.5100000500679016\n",
            "| epoch   2 |    50/  200 steps | loss 0.72484 | ppl    2.064\n",
            "| epoch   2 |   100/  200 steps | loss 0.69810 | ppl    2.010\n",
            "| epoch   2 |   150/  200 steps | loss 0.64816 | ppl    1.912\n",
            "Accuracy = 0.6665000319480896\n",
            "| epoch   3 |    50/  200 steps | loss 0.56914 | ppl    1.767\n",
            "| epoch   3 |   100/  200 steps | loss 0.49637 | ppl    1.643\n",
            "| epoch   3 |   150/  200 steps | loss 0.47815 | ppl    1.613\n",
            "Accuracy = 0.7490000128746033\n",
            "| epoch   4 |    50/  200 steps | loss 0.24863 | ppl    1.282\n",
            "| epoch   4 |   100/  200 steps | loss 0.27545 | ppl    1.317\n",
            "| epoch   4 |   150/  200 steps | loss 0.39427 | ppl    1.483\n",
            "Accuracy = 0.7705000638961792\n",
            "| epoch   5 |    50/  200 steps | loss 0.13701 | ppl    1.147\n",
            "| epoch   5 |   100/  200 steps | loss 0.20282 | ppl    1.225\n",
            "| epoch   5 |   150/  200 steps | loss 0.10675 | ppl    1.113\n",
            "Accuracy = 0.7560000419616699\n",
            "| epoch   6 |    50/  200 steps | loss 0.09399 | ppl    1.099\n",
            "| epoch   6 |   100/  200 steps | loss 0.06530 | ppl    1.067\n",
            "| epoch   6 |   150/  200 steps | loss 0.03335 | ppl    1.034\n",
            "Accuracy = 0.7505000233650208\n",
            "| epoch   7 |    50/  200 steps | loss 0.03215 | ppl    1.033\n",
            "| epoch   7 |   100/  200 steps | loss 0.00191 | ppl    1.002\n",
            "| epoch   7 |   150/  200 steps | loss 0.07425 | ppl    1.077\n",
            "Accuracy = 0.7590000629425049\n",
            "| epoch   8 |    50/  200 steps | loss 0.00364 | ppl    1.004\n",
            "| epoch   8 |   100/  200 steps | loss 0.02487 | ppl    1.025\n",
            "| epoch   8 |   150/  200 steps | loss 0.01004 | ppl    1.010\n",
            "Accuracy = 0.7475000619888306\n",
            "| epoch   9 |    50/  200 steps | loss 0.01043 | ppl    1.010\n",
            "| epoch   9 |   100/  200 steps | loss 0.02853 | ppl    1.029\n",
            "| epoch   9 |   150/  200 steps | loss 0.00056 | ppl    1.001\n",
            "Accuracy = 0.7585000395774841\n",
            "| epoch  10 |    50/  200 steps | loss 0.00183 | ppl    1.002\n",
            "| epoch  10 |   100/  200 steps | loss 0.01456 | ppl    1.015\n",
            "| epoch  10 |   150/  200 steps | loss 0.00014 | ppl    1.000\n",
            "Accuracy = 0.7565000653266907\n",
            "| epoch  11 |    50/  200 steps | loss 0.01491 | ppl    1.015\n",
            "| epoch  11 |   100/  200 steps | loss 0.00449 | ppl    1.004\n",
            "| epoch  11 |   150/  200 steps | loss 0.02067 | ppl    1.021\n",
            "Accuracy = 0.7515000104904175\n",
            "| epoch  12 |    50/  200 steps | loss 0.00196 | ppl    1.002\n",
            "| epoch  12 |   100/  200 steps | loss 0.00910 | ppl    1.009\n",
            "| epoch  12 |   150/  200 steps | loss 0.01443 | ppl    1.015\n",
            "Accuracy = 0.76500004529953\n",
            "| epoch  13 |    50/  200 steps | loss 0.00001 | ppl    1.000\n",
            "| epoch  13 |   100/  200 steps | loss 0.00646 | ppl    1.006\n",
            "| epoch  13 |   150/  200 steps | loss 0.00002 | ppl    1.000\n",
            "Accuracy = 0.7345000505447388\n",
            "| epoch  14 |    50/  200 steps | loss 0.00003 | ppl    1.000\n",
            "| epoch  14 |   100/  200 steps | loss 0.00977 | ppl    1.010\n",
            "| epoch  14 |   150/  200 steps | loss 0.02036 | ppl    1.021\n",
            "Accuracy = 0.7270000576972961\n",
            "| epoch  15 |    50/  200 steps | loss 0.00260 | ppl    1.003\n",
            "| epoch  15 |   100/  200 steps | loss 0.00001 | ppl    1.000\n",
            "| epoch  15 |   150/  200 steps | loss 0.02838 | ppl    1.029\n",
            "Accuracy = 0.7085000276565552\n",
            "\n",
            "=====PRETRAINED MODEL======\n"
          ]
        },
        {
          "output_type": "stream",
          "name": "stderr",
          "text": [
            "<ipython-input-22-f09076582a3e>:14: FutureWarning: You are using `torch.load` with `weights_only=False` (the current default value), which uses the default pickle module implicitly. It is possible to construct malicious pickle data which will execute arbitrary code during unpickling (See https://github.com/pytorch/pytorch/blob/main/SECURITY.md#untrusted-models for more details). In a future release, the default value for `weights_only` will be flipped to `True`. This limits the functions that could be executed during unpickling. Arbitrary objects will no longer be allowed to be loaded via this mode unless they are explicitly allowlisted by the user via `torch.serialization.add_safe_globals`. We recommend you start setting `weights_only=True` for any use case where you don't have full control of the loaded file. Please open an issue on GitHub for any issues related to this experimental feature.\n",
            "  checkpoint = torch.load(\"pretrained_model_4layers_no_class_head.pt\")\n"
          ]
        },
        {
          "output_type": "stream",
          "name": "stdout",
          "text": [
            "| epoch   1 |    50/  200 steps | loss 0.88626 | ppl    2.426\n",
            "| epoch   1 |   100/  200 steps | loss 0.69311 | ppl    2.000\n",
            "| epoch   1 |   150/  200 steps | loss 0.63456 | ppl    1.886\n",
            "Accuracy = 0.768500030040741\n",
            "| epoch   2 |    50/  200 steps | loss 0.52715 | ppl    1.694\n",
            "| epoch   2 |   100/  200 steps | loss 0.43736 | ppl    1.549\n",
            "| epoch   2 |   150/  200 steps | loss 0.48474 | ppl    1.624\n",
            "Accuracy = 0.7050000429153442\n",
            "| epoch   3 |    50/  200 steps | loss 0.42475 | ppl    1.529\n",
            "| epoch   3 |   100/  200 steps | loss 0.44863 | ppl    1.566\n",
            "| epoch   3 |   150/  200 steps | loss 0.33750 | ppl    1.401\n",
            "Accuracy = 0.8020000457763672\n",
            "| epoch   4 |    50/  200 steps | loss 0.28339 | ppl    1.328\n",
            "| epoch   4 |   100/  200 steps | loss 0.35900 | ppl    1.432\n",
            "| epoch   4 |   150/  200 steps | loss 0.32037 | ppl    1.378\n",
            "Accuracy = 0.8045000433921814\n",
            "| epoch   5 |    50/  200 steps | loss 0.25845 | ppl    1.295\n",
            "| epoch   5 |   100/  200 steps | loss 0.22377 | ppl    1.251\n",
            "| epoch   5 |   150/  200 steps | loss 0.35254 | ppl    1.423\n",
            "Accuracy = 0.8135000467300415\n",
            "| epoch   6 |    50/  200 steps | loss 0.16875 | ppl    1.184\n",
            "| epoch   6 |   100/  200 steps | loss 0.18892 | ppl    1.208\n",
            "| epoch   6 |   150/  200 steps | loss 0.20965 | ppl    1.233\n",
            "Accuracy = 0.8030000329017639\n",
            "| epoch   7 |    50/  200 steps | loss 0.15292 | ppl    1.165\n",
            "| epoch   7 |   100/  200 steps | loss 0.13633 | ppl    1.146\n",
            "| epoch   7 |   150/  200 steps | loss 0.19942 | ppl    1.221\n",
            "Accuracy = 0.8015000224113464\n",
            "| epoch   8 |    50/  200 steps | loss 0.05512 | ppl    1.057\n",
            "| epoch   8 |   100/  200 steps | loss 0.14917 | ppl    1.161\n",
            "| epoch   8 |   150/  200 steps | loss 0.15861 | ppl    1.172\n",
            "Accuracy = 0.8075000643730164\n",
            "| epoch   9 |    50/  200 steps | loss 0.06563 | ppl    1.068\n",
            "| epoch   9 |   100/  200 steps | loss 0.17510 | ppl    1.191\n",
            "| epoch   9 |   150/  200 steps | loss 0.04138 | ppl    1.042\n",
            "Accuracy = 0.796500027179718\n",
            "| epoch  10 |    50/  200 steps | loss 0.05312 | ppl    1.055\n",
            "| epoch  10 |   100/  200 steps | loss 0.10170 | ppl    1.107\n",
            "| epoch  10 |   150/  200 steps | loss 0.03531 | ppl    1.036\n",
            "Accuracy = 0.8030000329017639\n",
            "| epoch  11 |    50/  200 steps | loss 0.03446 | ppl    1.035\n",
            "| epoch  11 |   100/  200 steps | loss 0.03606 | ppl    1.037\n",
            "| epoch  11 |   150/  200 steps | loss 0.05724 | ppl    1.059\n",
            "Accuracy = 0.7930000424385071\n",
            "| epoch  12 |    50/  200 steps | loss 0.05137 | ppl    1.053\n",
            "| epoch  12 |   100/  200 steps | loss 0.03410 | ppl    1.035\n",
            "| epoch  12 |   150/  200 steps | loss 0.00426 | ppl    1.004\n",
            "Accuracy = 0.7990000247955322\n",
            "| epoch  13 |    50/  200 steps | loss 0.02307 | ppl    1.023\n",
            "| epoch  13 |   100/  200 steps | loss 0.03584 | ppl    1.036\n",
            "| epoch  13 |   150/  200 steps | loss 0.07184 | ppl    1.074\n",
            "Accuracy = 0.7950000166893005\n",
            "| epoch  14 |    50/  200 steps | loss 0.06521 | ppl    1.067\n",
            "| epoch  14 |   100/  200 steps | loss 0.01259 | ppl    1.013\n",
            "| epoch  14 |   150/  200 steps | loss 0.00893 | ppl    1.009\n",
            "Accuracy = 0.8005000352859497\n",
            "| epoch  15 |    50/  200 steps | loss 0.00053 | ppl    1.001\n",
            "| epoch  15 |   100/  200 steps | loss 0.06551 | ppl    1.068\n",
            "| epoch  15 |   150/  200 steps | loss 0.00032 | ppl    1.000\n",
            "Accuracy = 0.7990000247955322\n",
            "\n"
          ]
        }
      ],
      "source": [
        "from_scratch_settings = [True, False]\n",
        "\n",
        "from_scratch_valid_acc = []\n",
        "pretrained_valid_acc = []\n",
        "lr = 0.0001\n",
        "\n",
        "for from_scratch in from_scratch_settings:\n",
        "    model = Model(ntokens, nhead, nhid, nlayers, 2, dropout).to(device)\n",
        "    criterion = nn.CrossEntropyLoss()\n",
        "    optimizer = torch.optim.Adam(model.parameters(), lr=lr)\n",
        "    if not from_scratch:\n",
        "        print(\"=====PRETRAINED MODEL======\")\n",
        "        #load checkpoint\n",
        "        checkpoint = torch.load(\"pretrained_model_4layers_no_class_head.pt\")\n",
        "        #load state dict\n",
        "        model.base.load_state_dict(checkpoint['model_state_dict'])\n",
        "    else:\n",
        "        print(\"=====Trainig FROM SCRATCH======\")\n",
        "    epochs = 15\n",
        "    for epoch in range(1, epochs + 1):\n",
        "        train(\n",
        "            path_data_train,\n",
        "            path_labels_train,\n",
        "            save_interval=-1,\n",
        "            task='classification',\n",
        "            batch_size=8,\n",
        "            log_interval=50,\n",
        "        )\n",
        "        acc = evaluate_accuracy(\n",
        "            get_loader(\n",
        "                path_data_valid,\n",
        "                path_labels_valid,\n",
        "                token2ind=token2ind,\n",
        "                batch_size=20,\n",
        "                task='classification',\n",
        "            )\n",
        "        )\n",
        "        if from_scratch:\n",
        "            from_scratch_valid_acc.append(acc)\n",
        "        else:\n",
        "            pretrained_valid_acc.append(acc)\n",
        "    print()"
      ]
    },
    {
      "cell_type": "code",
      "execution_count": 24,
      "metadata": {
        "id": "RCpBIdTHojm6",
        "colab": {
          "base_uri": "https://localhost:8080/",
          "height": 472
        },
        "outputId": "939cbeec-05f7-432c-d08a-5085e4d1bf96"
      },
      "outputs": [
        {
          "output_type": "display_data",
          "data": {
            "text/plain": [
              "<Figure size 640x480 with 1 Axes>"
            ],
            "image/png": "[encoded data removed]"
          },
          "metadata": {}
        }
      ],
      "source": [
        "import matplotlib.pyplot as plt\n",
        "\n",
        "# Plotting the accuracy for both settings\n",
        "plt.plot([acc.cpu().item() for acc in from_scratch_valid_acc], label=\"Training from scratch\")\n",
        "plt.plot([acc.cpu().item() for acc in pretrained_valid_acc], label=\"Transfer learning\")\n",
        "\n",
        "plt.title(\"Model Accuracy on Validation Set by Epoch\")\n",
        "plt.xlabel(\"Epoch\")\n",
        "plt.ylabel(\"Validation Accuracy\")\n",
        "plt.legend()\n",
        "\n",
        "# Saving the figure\n",
        "plt.savefig(\"sentiment_analysis_accuracy_comparison.png\")\n"
      ]
    },
    {
      "cell_type": "code",
      "source": [
        " ntokens"
      ],
      "metadata": {
        "colab": {
          "base_uri": "https://localhost:8080/"
        },
        "id": "tDlvejePvEoN",
        "outputId": "8b6fa9bf-4dec-4156-bfda-617eaf9f7e2f"
      },
      "execution_count": 23,
      "outputs": [
        {
          "output_type": "execute_result",
          "data": {
            "text/plain": [
              "50001"
            ]
          },
          "metadata": {},
          "execution_count": 23
        }
      ]
    }
  ],
  "metadata": {
    "accelerator": "GPU",
    "colab": {
      "provenance": []
    },
    "kernelspec": {
      "display_name": "Python 3.6.15 ('altegrad')",
      "language": "python",
      "name": "python3"
    },
    "language_info": {
      "name": "python",
      "version": "3.6.15"
    },
    "vscode": {
      "interpreter": {
        "hash": "1f3cfdeab8dd8f9900bd16266619de191cf0f5e09365d74b1fba1714dce58066"
      }
    }
  },
  "nbformat": 4,
  "nbformat_minor": 0
}